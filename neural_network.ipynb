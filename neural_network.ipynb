{
 "cells": [
  {
   "cell_type": "code",
   "execution_count": 6,
   "metadata": {},
   "outputs": [
    {
     "name": "stdout",
     "output_type": "stream",
     "text": [
      "\n",
      "\u001b[1m[\u001b[0m\u001b[34;49mnotice\u001b[0m\u001b[1;39;49m]\u001b[0m\u001b[39;49m A new release of pip is available: \u001b[0m\u001b[31;49m23.3.2\u001b[0m\u001b[39;49m -> \u001b[0m\u001b[32;49m24.3.1\u001b[0m\n",
      "\u001b[1m[\u001b[0m\u001b[34;49mnotice\u001b[0m\u001b[1;39;49m]\u001b[0m\u001b[39;49m To update, run: \u001b[0m\u001b[32;49mpip install --upgrade pip\u001b[0m\n",
      "Note: you may need to restart the kernel to use updated packages.\n"
     ]
    }
   ],
   "source": [
    "%pip install -r requirements.txt"
   ]
  },
  {
   "cell_type": "code",
   "execution_count": 7,
   "metadata": {},
   "outputs": [],
   "source": [
    "import numpy as np\n",
    "import matplotlib.pyplot as plt\n",
    "from tqdm import trange\n",
    "import pandas as pd"
   ]
  },
  {
   "cell_type": "markdown",
   "metadata": {},
   "source": [
    "## Step 1.1 - How to create a Neural Network\n",
    "To  create a neural network in Pytorch, you need to create a class that extends the torch.nn.Module"
   ]
  },
  {
   "cell_type": "code",
   "execution_count": 8,
   "metadata": {},
   "outputs": [],
   "source": [
    "import torch.nn as nn\n",
    "import torch\n",
    "import torch.nn.functional as F\n",
    "\n",
    "class SineNeuralNetwork(nn.Module):\n",
    "    def __init__(self):\n",
    "        super().__init__()\n",
    "        self.hidden_layer_1 = nn.Linear(1, 3)\n",
    "        self.hidden_layer_2 = nn.Linear(3, 3)\n",
    "\n",
    "        self.output_layer = nn.Linear(3, 1)\n",
    "\n",
    "    def forward(self, x):\n",
    "        hidden_output = self.hidden_layer_1(x)\n",
    "        hidden_output = F.relu(hidden_output)\n",
    "        hidden_output = self.hidden_layer_2(hidden_output)\n",
    "        hidden_output = F.relu(hidden_output)\n",
    "        output = self.output_layer(hidden_output)\n",
    "        return output   "
   ]
  },
  {
   "cell_type": "markdown",
   "metadata": {},
   "source": [
    "## Step 1.2 How to make an prediction\n",
    "PyTorch expects inputs to be a tensor of type float."
   ]
  },
  {
   "cell_type": "code",
   "execution_count": 9,
   "metadata": {},
   "outputs": [
    {
     "name": "stdout",
     "output_type": "stream",
     "text": [
      "Prediction: 0.08890696614980698, Actual: 0.8414709848078965\n"
     ]
    }
   ],
   "source": [
    "input_data = torch.tensor([1]).float()\n",
    "actual_target = torch.tensor([np.sin(1)])\n",
    "sine_network = SineNeuralNetwork()\n",
    "\n",
    "prediction = sine_network(input_data)\n",
    "print(f\"Prediction: {prediction[0]}, Actual: {actual_target[0]}\")"
   ]
  },
  {
   "cell_type": "markdown",
   "metadata": {},
   "source": [
    "## Task 1.1 - Create a Neural Network\n",
    "You are tasked to create a fully connected neural network that has the following architecture:\n",
    "- Input Layer: 1 neurons\n",
    "- Hidden Layer: 3 neurons\n",
    "- Output Layer: 1 neuron\n",
    "\n",
    "![Network Structure](images/Network%20Structure.png)"
   ]
  },
  {
   "cell_type": "code",
   "execution_count": 10,
   "metadata": {},
   "outputs": [],
   "source": [
    "# TODO Create a neural network "
   ]
  },
  {
   "cell_type": "markdown",
   "metadata": {},
   "source": [
    "## Task 1.2 - Make a prediction"
   ]
  },
  {
   "cell_type": "code",
   "execution_count": 11,
   "metadata": {},
   "outputs": [],
   "source": [
    "# TODO: add your network and make a prediction here"
   ]
  },
  {
   "cell_type": "markdown",
   "metadata": {},
   "source": [
    "## Step 2: How to train a Neural Network"
   ]
  },
  {
   "cell_type": "code",
   "execution_count": 12,
   "metadata": {},
   "outputs": [
    {
     "name": "stderr",
     "output_type": "stream",
     "text": [
      "100%|██████████| 10/10 [00:03<00:00,  2.66it/s]\n"
     ]
    },
    {
     "data": {
      "text/plain": [
       "<matplotlib.legend.Legend at 0x7f6698ff5e50>"
      ]
     },
     "execution_count": 12,
     "metadata": {},
     "output_type": "execute_result"
    },
    {
     "data": {
      "image/png": "[encoded data removed]",
      "text/plain": [
       "<Figure size 640x480 with 1 Axes>"
      ]
     },
     "metadata": {},
     "output_type": "display_data"
    }
   ],
   "source": [
    "# Define the number of epochs\n",
    "epochs = 10\n",
    "\n",
    "# Generate some data\n",
    "data = torch.randn(1000, 1)\n",
    "labels = torch.sin(data)\n",
    "train_validation_split = int(0.8 * len(data))\n",
    "\n",
    "# Split the data into training and validation\n",
    "train_input = data[:train_validation_split]\n",
    "train_target = labels[:train_validation_split]\n",
    "\n",
    "validation_input = data[train_validation_split:]\n",
    "validation_target = labels[train_validation_split:]\n",
    "\n",
    "# Create the model, loss function and optimizer\n",
    "model = SineNeuralNetwork()\n",
    "criterion = nn.MSELoss()\n",
    "optimizer = torch.optim.SGD(model.parameters(), lr=0.01)\n",
    "\n",
    "epoch_losses = []\n",
    "validation_losses = []\n",
    "\n",
    "# Train the model\n",
    "for epoch in trange(epochs):\n",
    "\n",
    "    epoch_loss = 0\n",
    "    for input, target in zip(train_input, train_target):\n",
    "    \n",
    "        # Forward pass\n",
    "        output = model(input)\n",
    "        loss = criterion(output, target)\n",
    "\n",
    "        # Backward pass\n",
    "        optimizer.zero_grad()\n",
    "        loss.backward()\n",
    "        optimizer.step()\n",
    "\n",
    "        epoch_loss += loss.item()\n",
    "    \n",
    "    epoch_losses.append(epoch_loss/len(train_input))\n",
    "    \n",
    "\n",
    "    # Calculate the validation loss for visualizing the model's performance\n",
    "    validation_loss = 0\n",
    "    for input, target in zip(validation_input, validation_target):\n",
    "        output = model(input)\n",
    "        loss = criterion(output, target)\n",
    "        validation_loss += loss.item()\n",
    "    \n",
    "    validation_losses.append(validation_loss/len(validation_input))\n",
    "\n",
    "# Plot the training and validation losses\n",
    "plt.plot(epoch_losses, label='Training loss')\n",
    "plt.plot(validation_losses, label='Validation loss')\n",
    "plt.legend()\n",
    "\n"
   ]
  },
  {
   "cell_type": "code",
   "execution_count": 13,
   "metadata": {},
   "outputs": [
    {
     "data": {
      "text/plain": [
       "<matplotlib.collections.PathCollection at 0x7f6698e6adb0>"
      ]
     },
     "execution_count": 13,
     "metadata": {},
     "output_type": "execute_result"
    },
    {
     "data": {
      "image/png": "[encoded data removed]",
      "text/plain": [
       "<Figure size 640x480 with 1 Axes>"
      ]
     },
     "metadata": {},
     "output_type": "display_data"
    }
   ],
   "source": [
    "predictions = model(validation_input)\n",
    "plt.scatter(validation_input, validation_target, label='True values')\n",
    "plt.scatter(validation_input, predictions.detach().numpy(), label='Predictions')"
   ]
  },
  {
   "cell_type": "markdown",
   "metadata": {},
   "source": [
    "## Task 2: Train the Neural Network\n",
    "Try to improve the performance of the neural network by training it on the given dataset.\n",
    "\n",
    "Recommended Steps:\n",
    "* Try to change the number of epochs\n",
    "* Try to change the learning rate\n",
    "* Try to change the neural network architecture\n",
    "  * Add more hidden layers\n",
    "  * Add more neurons to the hidden layers\n",
    "* Try to change the optimizer\n",
    "* Try to change the loss function"
   ]
  },
  {
   "cell_type": "code",
   "execution_count": 14,
   "metadata": {},
   "outputs": [
    {
     "ename": "TypeError",
     "evalue": "slice indices must be integers or None or have an __index__ method",
     "output_type": "error",
     "traceback": [
      "\u001b[0;31m---------------------------------------------------------------------------\u001b[0m",
      "\u001b[0;31mTypeError\u001b[0m                                 Traceback (most recent call last)",
      "Cell \u001b[0;32mIn[14], line 7\u001b[0m\n\u001b[1;32m      5\u001b[0m labels \u001b[38;5;241m=\u001b[39m torch\u001b[38;5;241m.\u001b[39msin(data)\n\u001b[1;32m      6\u001b[0m train_validation_split \u001b[38;5;241m=\u001b[39m \u001b[38;5;241m0.8\u001b[39m \u001b[38;5;241m*\u001b[39m \u001b[38;5;28mlen\u001b[39m(data)\n\u001b[0;32m----> 7\u001b[0m train_input \u001b[38;5;241m=\u001b[39m \u001b[43mdata\u001b[49m\u001b[43m[\u001b[49m\u001b[43m:\u001b[49m\u001b[43mtrain_validation_split\u001b[49m\u001b[43m]\u001b[49m\n\u001b[1;32m      8\u001b[0m train_target \u001b[38;5;241m=\u001b[39m labels[:train_validation_split]\n\u001b[1;32m      9\u001b[0m validation_input \u001b[38;5;241m=\u001b[39m data[train_validation_split:]\n",
      "\u001b[0;31mTypeError\u001b[0m: slice indices must be integers or None or have an __index__ method"
     ]
    }
   ],
   "source": [
    "# Define the number of epochs\n",
    "epochs = 10\n",
    "\n",
    "# Generate some data\n",
    "data = torch.randn(1000, 1)\n",
    "labels = torch.sin(data)\n",
    "train_validation_split = int(0.8 * len(data))\n",
    "\n",
    "# Split the data into training and validation\n",
    "train_input = data[:train_validation_split]\n",
    "train_target = labels[:train_validation_split]\n",
    "\n",
    "validation_input = data[train_validation_split:]\n",
    "validation_target = labels[train_validation_split:]\n",
    "\n",
    "# Create the model, loss function and optimizer\n",
    "model = SineNeuralNetwork()\n",
    "criterion = nn.MSELoss()\n",
    "optimizer = torch.optim.SGD(model.parameters(), lr=0.01)\n",
    "\n",
    "epoch_losses = []\n",
    "validation_losses = []\n",
    "\n",
    "# Train the model\n",
    "for epoch in trange(epochs):\n",
    "\n",
    "    epoch_loss = 0\n",
    "    for input, target in zip(train_input, train_target):\n",
    "    \n",
    "        # Forward pass\n",
    "        output = model(input)\n",
    "        loss = criterion(output, target)\n",
    "\n",
    "        # Backward pass\n",
    "        optimizer.zero_grad()\n",
    "        loss.backward()\n",
    "        optimizer.step()\n",
    "\n",
    "        epoch_loss += loss.item()\n",
    "    \n",
    "    epoch_losses.append(epoch_loss/len(train_input))\n",
    "    \n",
    "\n",
    "    # Calculate the validation loss for visualizing the model's performance\n",
    "    validation_loss = 0\n",
    "    for input, target in zip(validation_input, validation_target):\n",
    "        output = model(input)\n",
    "        loss = criterion(output, target)\n",
    "        validation_loss += loss.item()\n",
    "    \n",
    "    validation_losses.append(validation_loss/len(validation_input))\n",
    "\n",
    "# Plot the training and validation losses\n",
    "plt.plot(epoch_losses, label='Training loss')\n",
    "plt.plot(validation_losses, label='Validation loss')\n",
    "plt.legend()\n",
    "\n"
   ]
  },
  {
   "cell_type": "markdown",
   "metadata": {},
   "source": [
    "## Step 3: How "
   ]
  },
  {
   "cell_type": "markdown",
   "metadata": {},
   "source": [
    "## Task 4: Competition\n",
    "Now it is your turn to compete, join together with the people on your table and try to get the best performance on the dataset.\n",
    "\n",
    "Your goal is to get the highest accuracy on the test dataset.\n",
    "Try to improve the performance of the neural network by training it on the given dataset.\n",
    "\n",
    "Recommended Steps:\n",
    "* Try to change the number of epochs\n",
    "* Try to change the learning rate\n",
    "* Try to change the neural network architecture\n",
    "  * Add more hidden layers\n",
    "  * Add more neurons to the hidden layers\n",
    "* Try to change the optimizer\n",
    "* Try to change the loss function"
   ]
  },
  {
   "cell_type": "code",
   "execution_count": 21,
   "metadata": {},
   "outputs": [
    {
     "data": {
      "text/plain": [
       "tensor([[ 7.4000,  0.7000,  0.0000,  ...,  3.5100,  0.5600,  9.4000],\n",
       "        [ 7.8000,  0.8800,  0.0000,  ...,  3.2000,  0.6800,  9.8000],\n",
       "        [ 7.8000,  0.7600,  0.0400,  ...,  3.2600,  0.6500,  9.8000],\n",
       "        ...,\n",
       "        [ 6.3000,  0.5100,  0.1300,  ...,  3.4200,  0.7500, 11.0000],\n",
       "        [ 5.9000,  0.6450,  0.1200,  ...,  3.5700,  0.7100, 10.2000],\n",
       "        [ 6.0000,  0.3100,  0.4700,  ...,  3.3900,  0.6600, 11.0000]])"
      ]
     },
     "execution_count": 21,
     "metadata": {},
     "output_type": "execute_result"
    }
   ],
   "source": [
    "# DO NOT CHANGE ANY CODE IN THIS CELL\n",
    "\n",
    "# Load the data\n",
    "data = pd.read_csv('data/winequality-red.csv')\n",
    "\n",
    "# Split the data into input and target\n",
    "target = data['quality']\n",
    "data = data.drop('quality', axis=1)\n",
    "\n",
    "# Convert the data to PyTorch tensors\n",
    "data = torch.tensor(data.values).float()\n",
    "target = torch.tensor(target.values).float()\n",
    "\n",
    "# Split the data into training and validation\n",
    "train_input = data[:train_validation_split]\n",
    "train_target = target[:train_validation_split]\n",
    "\n",
    "validation_input = data[train_validation_split:]\n",
    "validation_target = target[train_validation_split:]\n"
   ]
  },
  {
   "cell_type": "code",
   "execution_count": null,
   "metadata": {},
   "outputs": [],
   "source": [
    "# TODO\n",
    "# Create you model here\n"
   ]
  },
  {
   "cell_type": "code",
   "execution_count": null,
   "metadata": {},
   "outputs": [],
   "source": [
    "\n",
    "# Se the model, loss function and optimizer\n",
    "model = \n",
    "criterion =\n",
    "optimizer =\n"
   ]
  },
  {
   "cell_type": "code",
   "execution_count": null,
   "metadata": {},
   "outputs": [],
   "source": [
    "epoch_losses = []\n",
    "validation_losses = []\n",
    "\n",
    "# Train the model\n",
    "for epoch in trange(epochs):\n",
    "\n",
    "    epoch_loss = 0\n",
    "    for input, target in zip(train_input, train_target):\n",
    "    \n",
    "        # Forward pass\n",
    "        output = model(input)\n",
    "        loss = criterion(output, target)\n",
    "\n",
    "        # Backward pass\n",
    "        optimizer.zero_grad()\n",
    "        loss.backward()\n",
    "        optimizer.step()\n",
    "\n",
    "        epoch_loss += loss.item()\n",
    "    \n",
    "    epoch_losses.append(epoch_loss/len(train_input))\n",
    "    \n",
    "\n",
    "    # Calculate the validation loss for visualizing the model's performance\n",
    "    validation_loss = 0\n",
    "    for input, target in zip(validation_input, validation_target):\n",
    "        output = model(input)\n",
    "        loss = criterion(output, target)\n",
    "        validation_loss += loss.item()\n",
    "    \n",
    "    validation_losses.append(validation_loss/len(validation_input))\n",
    "\n",
    "# Plot the training and validation losses\n",
    "plt.plot(epoch_losses, label='Training loss')\n",
    "plt.plot(validation_losses, label='Validation loss')\n",
    "plt.legend()"
   ]
  }
 ],
 "metadata": {
  "kernelspec": {
   "display_name": "it3105",
   "language": "python",
   "name": "python3"
  },
  "language_info": {
   "codemirror_mode": {
    "name": "ipython",
    "version": 3
   },
   "file_extension": ".py",
   "mimetype": "text/x-python",
   "name": "python",
   "nbconvert_exporter": "python",
   "pygments_lexer": "ipython3",
   "version": "3.12.5"
  }
 },
 "nbformat": 4,
 "nbformat_minor": 2
}
