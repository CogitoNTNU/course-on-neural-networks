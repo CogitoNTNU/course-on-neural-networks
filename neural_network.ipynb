{
 "cells": [
  {
   "cell_type": "code",
   "execution_count": null,
   "metadata": {},
   "outputs": [],
   "source": [
    "%pip install -r requirements.txt"
   ]
  },
  {
   "cell_type": "code",
   "execution_count": 1,
   "metadata": {},
   "outputs": [],
   "source": [
    "import numpy as np\n",
    "import matplotlib.pyplot as plt\n",
    "from tqdm import trange"
   ]
  },
  {
   "cell_type": "markdown",
   "metadata": {},
   "source": [
    "## Step 1 - How to create a Neural Network\n",
    "To  create a neural network in Pytorch, you need to create a class that extends the torch.nn.module"
   ]
  },
  {
   "cell_type": "code",
   "execution_count": 2,
   "metadata": {},
   "outputs": [],
   "source": [
    "import torch.nn as nn\n",
    "import torch\n",
    "import torch.nn.functional as F\n",
    "\n",
    "class SineNeuralNetwork(nn.Module):\n",
    "    def __init__(self):\n",
    "        super().__init__()\n",
    "        self.hidden_layer = nn.Linear(1, 3)\n",
    "        self.output_layer = nn.Linear(3, 1)\n",
    "\n",
    "    def forward(self, x):\n",
    "        hidden_output = self.hidden_layer(x)\n",
    "        hidden_output = F.relu(hidden_output)\n",
    "        output = self.output_layer(hidden_output)\n",
    "        return output   "
   ]
  },
  {
   "cell_type": "code",
   "execution_count": null,
   "metadata": {},
   "outputs": [],
   "source": [
    "epochs = 20\n",
    "\n",
    "inputs = torch.randn(10000, 1)\n",
    "true_values = torch.sin(inputs)\n",
    "\n",
    "\n",
    "validation_inputs = torch.randn(1000, 1)\n",
    "validation_true_values = torch.sin(validation_inputs)\n",
    "\n",
    "model = SineNeuralNetwork()\n",
    "criterion = nn.MSELoss()\n",
    "optimizer = torch.optim.SGD(model.parameters(), lr=0.01)\n",
    "\n",
    "epoch_losses = []\n",
    "validation_losses = []\n",
    "\n",
    "for epoch in trange(epochs):\n",
    "\n",
    "    epoch_loss = 0\n",
    "    for input, true_value in zip(inputs, true_values):\n",
    "    \n",
    "\n",
    "        output = model(input)\n",
    "        loss = criterion(output, true_value)\n",
    "\n",
    "        optimizer.zero_grad()\n",
    "        loss.backward()\n",
    "        optimizer.step()\n",
    "\n",
    "        epoch_loss += loss.item()\n",
    "    \n",
    "    epoch_losses.append(epoch_loss/len(inputs))\n",
    "    \n",
    "    validation_loss = 0\n",
    "    for input, true_value in zip(validation_inputs, validation_true_values):\n",
    "        output = model(input)\n",
    "        loss = criterion(output, true_value)\n",
    "        validation_loss += loss.item()\n",
    "    \n",
    "    validation_losses.append(validation_loss/len(validation_inputs))\n",
    "\n",
    "plt.plot(epoch_losses, label='Training loss')\n",
    "plt.plot(validation_losses, label='Validation loss')\n",
    "plt.legend()\n",
    "\n"
   ]
  },
  {
   "cell_type": "code",
   "execution_count": null,
   "metadata": {},
   "outputs": [],
   "source": [
    "predictions = model(validation_inputs)\n",
    "plt.scatter(validation_inputs, validation_true_values, label='True values')\n",
    "plt.scatter(validation_inputs, predictions.detach().numpy(), label='Predictions')"
   ]
  }
 ],
 "metadata": {
  "kernelspec": {
   "display_name": "it3105",
   "language": "python",
   "name": "python3"
  },
  "language_info": {
   "codemirror_mode": {
    "name": "ipython",
    "version": 3
   },
   "file_extension": ".py",
   "mimetype": "text/x-python",
   "name": "python",
   "nbconvert_exporter": "python",
   "pygments_lexer": "ipython3",
   "version": "3.12.5"
  }
 },
 "nbformat": 4,
 "nbformat_minor": 2
}
